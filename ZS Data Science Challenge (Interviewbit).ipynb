{
 "cells": [
  {
   "cell_type": "markdown",
   "metadata": {},
   "source": [
    "# Importing important libraries"
   ]
  },
  {
   "cell_type": "code",
   "execution_count": 26,
   "metadata": {},
   "outputs": [],
   "source": [
    "import numpy as np\n",
    "import pandas as pd\n",
    "import seaborn as sns\n",
    "import matplotlib.pyplot as plt\n",
    "from hyperopt import fmin, hp, tpe, Trials, space_eval, STATUS_OK, STATUS_RUNNING"
   ]
  },
  {
   "cell_type": "code",
   "execution_count": 27,
   "metadata": {},
   "outputs": [],
   "source": [
    "df=pd.read_csv(\"data.csv\")"
   ]
  },
  {
   "cell_type": "markdown",
   "metadata": {},
   "source": [
    "# Splitting the dataset, analysis and cleaning"
   ]
  },
  {
   "cell_type": "code",
   "execution_count": 28,
   "metadata": {},
   "outputs": [
    {
     "data": {
      "text/plain": [
       "(24429, 28)"
      ]
     },
     "execution_count": 28,
     "metadata": {},
     "output_type": "execute_result"
    }
   ],
   "source": [
    "train=df[df[\"is_goal\"].isna()==False]\n",
    "train.shape"
   ]
  },
  {
   "cell_type": "code",
   "execution_count": 29,
   "metadata": {},
   "outputs": [
    {
     "data": {
      "text/plain": [
       "(6268, 28)"
      ]
     },
     "execution_count": 29,
     "metadata": {},
     "output_type": "execute_result"
    }
   ],
   "source": [
    "test=df[df[\"is_goal\"].isna()==True]\n",
    "test.shape"
   ]
  },
  {
   "cell_type": "code",
   "execution_count": 30,
   "metadata": {
    "scrolled": false
   },
   "outputs": [],
   "source": [
    "train.isna().sum()"
   ]
  },
  {
   "cell_type": "code",
   "execution_count": 31,
   "metadata": {},
   "outputs": [],
   "source": [
    "train[[\"distance_of_shot\",\"distance_of_shot.1\"]]"
   ]
  },
  {
   "cell_type": "code",
   "execution_count": 32,
   "metadata": {},
   "outputs": [
    {
     "name": "stderr",
     "output_type": "stream",
     "text": [
      "C:\\Users\\Sreyan\\Anaconda3\\envs\\AI2\\lib\\site-packages\\pandas\\core\\frame.py:3697: SettingWithCopyWarning: \n",
      "A value is trying to be set on a copy of a slice from a DataFrame\n",
      "\n",
      "See the caveats in the documentation: http://pandas.pydata.org/pandas-docs/stable/indexing.html#indexing-view-versus-copy\n",
      "  errors=errors)\n"
     ]
    }
   ],
   "source": [
    "train.drop([\"Unnamed: 0\",\"match_event_id\",\"shot_id_number\",\"team_id\",\"match_id\",\"lat/lng\",\"team_name\"],axis=1,inplace=True)\n",
    "test.drop([\"Unnamed: 0\",\"match_event_id\",\"shot_id_number\",\"team_id\",\"match_id\",\"lat/lng\",\"team_name\"],axis=1,inplace=True)"
   ]
  },
  {
   "cell_type": "code",
   "execution_count": 33,
   "metadata": {},
   "outputs": [],
   "source": [
    "train[\"remaining_min.1\"].value_counts()\n",
    "train[\"type_of_shot\"].value_counts()"
   ]
  },
  {
   "cell_type": "code",
   "execution_count": 34,
   "metadata": {},
   "outputs": [],
   "source": [
    "sns.countplot(\"is_goal\",data=df,hue=\"type_of_combined_shot\")"
   ]
  },
  {
   "cell_type": "code",
   "execution_count": 35,
   "metadata": {},
   "outputs": [],
   "source": [
    "sns.barplot('match_event_id',data=train,hue=\"opponentteam\")"
   ]
  },
  {
   "cell_type": "code",
   "execution_count": 36,
   "metadata": {},
   "outputs": [
    {
     "name": "stderr",
     "output_type": "stream",
     "text": [
      "C:\\Users\\Sreyan\\Anaconda3\\envs\\AI2\\lib\\site-packages\\ipykernel_launcher.py:4: SettingWithCopyWarning: \n",
      "A value is trying to be set on a copy of a slice from a DataFrame.\n",
      "Try using .loc[row_indexer,col_indexer] = value instead\n",
      "\n",
      "See the caveats in the documentation: http://pandas.pydata.org/pandas-docs/stable/indexing.html#indexing-view-versus-copy\n",
      "  after removing the cwd from sys.path.\n",
      "C:\\Users\\Sreyan\\Anaconda3\\envs\\AI2\\lib\\site-packages\\ipykernel_launcher.py:5: SettingWithCopyWarning: \n",
      "A value is trying to be set on a copy of a slice from a DataFrame.\n",
      "Try using .loc[row_indexer,col_indexer] = value instead\n",
      "\n",
      "See the caveats in the documentation: http://pandas.pydata.org/pandas-docs/stable/indexing.html#indexing-view-versus-copy\n",
      "  \"\"\"\n"
     ]
    }
   ],
   "source": [
    "# Creating seperate columns for indicating NA values\n",
    "col=[cols for cols in train.columns]\n",
    "col.remove(\"is_goal\")\n",
    "for col in col:\n",
    "    train[col+\"isna\"]=train[col].isna()\n",
    "    test[col+\"isna\"]=test[col].isna()"
   ]
  },
  {
   "cell_type": "code",
   "execution_count": 37,
   "metadata": {},
   "outputs": [],
   "source": [
    "# Splitting a single column for generation of home-away teams and home/away games\n",
    "lol=train[\"home/away\"].str.split(\" \",n=3,expand=True)\n",
    "lol1=test[\"home/away\"].str.split(\" \",n=3,expand=True)"
   ]
  },
  {
   "cell_type": "code",
   "execution_count": 38,
   "metadata": {},
   "outputs": [
    {
     "name": "stderr",
     "output_type": "stream",
     "text": [
      "C:\\Users\\Sreyan\\Anaconda3\\envs\\AI2\\lib\\site-packages\\ipykernel_launcher.py:1: SettingWithCopyWarning: \n",
      "A value is trying to be set on a copy of a slice from a DataFrame.\n",
      "Try using .loc[row_indexer,col_indexer] = value instead\n",
      "\n",
      "See the caveats in the documentation: http://pandas.pydata.org/pandas-docs/stable/indexing.html#indexing-view-versus-copy\n",
      "  \"\"\"Entry point for launching an IPython kernel.\n",
      "C:\\Users\\Sreyan\\Anaconda3\\envs\\AI2\\lib\\site-packages\\ipykernel_launcher.py:2: SettingWithCopyWarning: \n",
      "A value is trying to be set on a copy of a slice from a DataFrame.\n",
      "Try using .loc[row_indexer,col_indexer] = value instead\n",
      "\n",
      "See the caveats in the documentation: http://pandas.pydata.org/pandas-docs/stable/indexing.html#indexing-view-versus-copy\n",
      "  \n",
      "C:\\Users\\Sreyan\\Anaconda3\\envs\\AI2\\lib\\site-packages\\ipykernel_launcher.py:3: SettingWithCopyWarning: \n",
      "A value is trying to be set on a copy of a slice from a DataFrame.\n",
      "Try using .loc[row_indexer,col_indexer] = value instead\n",
      "\n",
      "See the caveats in the documentation: http://pandas.pydata.org/pandas-docs/stable/indexing.html#indexing-view-versus-copy\n",
      "  This is separate from the ipykernel package so we can avoid doing imports until\n",
      "C:\\Users\\Sreyan\\Anaconda3\\envs\\AI2\\lib\\site-packages\\ipykernel_launcher.py:5: SettingWithCopyWarning: \n",
      "A value is trying to be set on a copy of a slice from a DataFrame.\n",
      "Try using .loc[row_indexer,col_indexer] = value instead\n",
      "\n",
      "See the caveats in the documentation: http://pandas.pydata.org/pandas-docs/stable/indexing.html#indexing-view-versus-copy\n",
      "  \"\"\"\n",
      "C:\\Users\\Sreyan\\Anaconda3\\envs\\AI2\\lib\\site-packages\\ipykernel_launcher.py:6: SettingWithCopyWarning: \n",
      "A value is trying to be set on a copy of a slice from a DataFrame.\n",
      "Try using .loc[row_indexer,col_indexer] = value instead\n",
      "\n",
      "See the caveats in the documentation: http://pandas.pydata.org/pandas-docs/stable/indexing.html#indexing-view-versus-copy\n",
      "  \n",
      "C:\\Users\\Sreyan\\Anaconda3\\envs\\AI2\\lib\\site-packages\\ipykernel_launcher.py:7: SettingWithCopyWarning: \n",
      "A value is trying to be set on a copy of a slice from a DataFrame.\n",
      "Try using .loc[row_indexer,col_indexer] = value instead\n",
      "\n",
      "See the caveats in the documentation: http://pandas.pydata.org/pandas-docs/stable/indexing.html#indexing-view-versus-copy\n",
      "  import sys\n"
     ]
    }
   ],
   "source": [
    "train[\"myteam\"]=lol[0]\n",
    "train[\"opponentteam\"]=lol[2]\n",
    "train[\"homeaway\"]=lol[1]\n",
    "\n",
    "test[\"myteam\"]=lol1[0]\n",
    "test[\"opponentteam\"]=lol1[2]\n",
    "test[\"homeaway\"]=lol1[1]"
   ]
  },
  {
   "cell_type": "code",
   "execution_count": 39,
   "metadata": {},
   "outputs": [
    {
     "name": "stderr",
     "output_type": "stream",
     "text": [
      "C:\\Users\\Sreyan\\Anaconda3\\envs\\AI2\\lib\\site-packages\\ipykernel_launcher.py:2: SettingWithCopyWarning: \n",
      "A value is trying to be set on a copy of a slice from a DataFrame.\n",
      "Try using .loc[row_indexer,col_indexer] = value instead\n",
      "\n",
      "See the caveats in the documentation: http://pandas.pydata.org/pandas-docs/stable/indexing.html#indexing-view-versus-copy\n",
      "  \n",
      "C:\\Users\\Sreyan\\Anaconda3\\envs\\AI2\\lib\\site-packages\\ipykernel_launcher.py:3: SettingWithCopyWarning: \n",
      "A value is trying to be set on a copy of a slice from a DataFrame.\n",
      "Try using .loc[row_indexer,col_indexer] = value instead\n",
      "\n",
      "See the caveats in the documentation: http://pandas.pydata.org/pandas-docs/stable/indexing.html#indexing-view-versus-copy\n",
      "  This is separate from the ipykernel package so we can avoid doing imports until\n",
      "C:\\Users\\Sreyan\\Anaconda3\\envs\\AI2\\lib\\site-packages\\ipykernel_launcher.py:6: SettingWithCopyWarning: \n",
      "A value is trying to be set on a copy of a slice from a DataFrame.\n",
      "Try using .loc[row_indexer,col_indexer] = value instead\n",
      "\n",
      "See the caveats in the documentation: http://pandas.pydata.org/pandas-docs/stable/indexing.html#indexing-view-versus-copy\n",
      "  \n",
      "C:\\Users\\Sreyan\\Anaconda3\\envs\\AI2\\lib\\site-packages\\ipykernel_launcher.py:7: SettingWithCopyWarning: \n",
      "A value is trying to be set on a copy of a slice from a DataFrame.\n",
      "Try using .loc[row_indexer,col_indexer] = value instead\n",
      "\n",
      "See the caveats in the documentation: http://pandas.pydata.org/pandas-docs/stable/indexing.html#indexing-view-versus-copy\n",
      "  import sys\n",
      "C:\\Users\\Sreyan\\Anaconda3\\envs\\AI2\\lib\\site-packages\\ipykernel_launcher.py:10: SettingWithCopyWarning: \n",
      "A value is trying to be set on a copy of a slice from a DataFrame.\n",
      "Try using .loc[row_indexer,col_indexer] = value instead\n",
      "\n",
      "See the caveats in the documentation: http://pandas.pydata.org/pandas-docs/stable/indexing.html#indexing-view-versus-copy\n",
      "  # Remove the CWD from sys.path while we load stuff.\n",
      "C:\\Users\\Sreyan\\Anaconda3\\envs\\AI2\\lib\\site-packages\\ipykernel_launcher.py:11: SettingWithCopyWarning: \n",
      "A value is trying to be set on a copy of a slice from a DataFrame.\n",
      "Try using .loc[row_indexer,col_indexer] = value instead\n",
      "\n",
      "See the caveats in the documentation: http://pandas.pydata.org/pandas-docs/stable/indexing.html#indexing-view-versus-copy\n",
      "  # This is added back by InteractiveShellApp.init_path()\n",
      "C:\\Users\\Sreyan\\Anaconda3\\envs\\AI2\\lib\\site-packages\\ipykernel_launcher.py:14: SettingWithCopyWarning: \n",
      "A value is trying to be set on a copy of a slice from a DataFrame.\n",
      "Try using .loc[row_indexer,col_indexer] = value instead\n",
      "\n",
      "See the caveats in the documentation: http://pandas.pydata.org/pandas-docs/stable/indexing.html#indexing-view-versus-copy\n",
      "  \n",
      "C:\\Users\\Sreyan\\Anaconda3\\envs\\AI2\\lib\\site-packages\\ipykernel_launcher.py:15: SettingWithCopyWarning: \n",
      "A value is trying to be set on a copy of a slice from a DataFrame.\n",
      "Try using .loc[row_indexer,col_indexer] = value instead\n",
      "\n",
      "See the caveats in the documentation: http://pandas.pydata.org/pandas-docs/stable/indexing.html#indexing-view-versus-copy\n",
      "  from ipykernel import kernelapp as app\n",
      "C:\\Users\\Sreyan\\Anaconda3\\envs\\AI2\\lib\\site-packages\\ipykernel_launcher.py:18: SettingWithCopyWarning: \n",
      "A value is trying to be set on a copy of a slice from a DataFrame.\n",
      "Try using .loc[row_indexer,col_indexer] = value instead\n",
      "\n",
      "See the caveats in the documentation: http://pandas.pydata.org/pandas-docs/stable/indexing.html#indexing-view-versus-copy\n",
      "C:\\Users\\Sreyan\\Anaconda3\\envs\\AI2\\lib\\site-packages\\ipykernel_launcher.py:19: SettingWithCopyWarning: \n",
      "A value is trying to be set on a copy of a slice from a DataFrame.\n",
      "Try using .loc[row_indexer,col_indexer] = value instead\n",
      "\n",
      "See the caveats in the documentation: http://pandas.pydata.org/pandas-docs/stable/indexing.html#indexing-view-versus-copy\n",
      "C:\\Users\\Sreyan\\Anaconda3\\envs\\AI2\\lib\\site-packages\\ipykernel_launcher.py:22: SettingWithCopyWarning: \n",
      "A value is trying to be set on a copy of a slice from a DataFrame.\n",
      "Try using .loc[row_indexer,col_indexer] = value instead\n",
      "\n",
      "See the caveats in the documentation: http://pandas.pydata.org/pandas-docs/stable/indexing.html#indexing-view-versus-copy\n",
      "C:\\Users\\Sreyan\\Anaconda3\\envs\\AI2\\lib\\site-packages\\ipykernel_launcher.py:23: SettingWithCopyWarning: \n",
      "A value is trying to be set on a copy of a slice from a DataFrame.\n",
      "Try using .loc[row_indexer,col_indexer] = value instead\n",
      "\n",
      "See the caveats in the documentation: http://pandas.pydata.org/pandas-docs/stable/indexing.html#indexing-view-versus-copy\n",
      "C:\\Users\\Sreyan\\Anaconda3\\envs\\AI2\\lib\\site-packages\\ipykernel_launcher.py:26: SettingWithCopyWarning: \n",
      "A value is trying to be set on a copy of a slice from a DataFrame.\n",
      "Try using .loc[row_indexer,col_indexer] = value instead\n",
      "\n",
      "See the caveats in the documentation: http://pandas.pydata.org/pandas-docs/stable/indexing.html#indexing-view-versus-copy\n",
      "C:\\Users\\Sreyan\\Anaconda3\\envs\\AI2\\lib\\site-packages\\ipykernel_launcher.py:27: SettingWithCopyWarning: \n",
      "A value is trying to be set on a copy of a slice from a DataFrame.\n",
      "Try using .loc[row_indexer,col_indexer] = value instead\n",
      "\n",
      "See the caveats in the documentation: http://pandas.pydata.org/pandas-docs/stable/indexing.html#indexing-view-versus-copy\n",
      "C:\\Users\\Sreyan\\Anaconda3\\envs\\AI2\\lib\\site-packages\\ipykernel_launcher.py:30: SettingWithCopyWarning: \n",
      "A value is trying to be set on a copy of a slice from a DataFrame.\n",
      "Try using .loc[row_indexer,col_indexer] = value instead\n",
      "\n",
      "See the caveats in the documentation: http://pandas.pydata.org/pandas-docs/stable/indexing.html#indexing-view-versus-copy\n",
      "C:\\Users\\Sreyan\\Anaconda3\\envs\\AI2\\lib\\site-packages\\ipykernel_launcher.py:31: SettingWithCopyWarning: \n",
      "A value is trying to be set on a copy of a slice from a DataFrame.\n",
      "Try using .loc[row_indexer,col_indexer] = value instead\n",
      "\n",
      "See the caveats in the documentation: http://pandas.pydata.org/pandas-docs/stable/indexing.html#indexing-view-versus-copy\n",
      "C:\\Users\\Sreyan\\Anaconda3\\envs\\AI2\\lib\\site-packages\\ipykernel_launcher.py:34: SettingWithCopyWarning: \n",
      "A value is trying to be set on a copy of a slice from a DataFrame.\n",
      "Try using .loc[row_indexer,col_indexer] = value instead\n",
      "\n",
      "See the caveats in the documentation: http://pandas.pydata.org/pandas-docs/stable/indexing.html#indexing-view-versus-copy\n",
      "C:\\Users\\Sreyan\\Anaconda3\\envs\\AI2\\lib\\site-packages\\ipykernel_launcher.py:35: SettingWithCopyWarning: \n",
      "A value is trying to be set on a copy of a slice from a DataFrame.\n",
      "Try using .loc[row_indexer,col_indexer] = value instead\n",
      "\n",
      "See the caveats in the documentation: http://pandas.pydata.org/pandas-docs/stable/indexing.html#indexing-view-versus-copy\n",
      "C:\\Users\\Sreyan\\Anaconda3\\envs\\AI2\\lib\\site-packages\\ipykernel_launcher.py:38: SettingWithCopyWarning: \n",
      "A value is trying to be set on a copy of a slice from a DataFrame.\n",
      "Try using .loc[row_indexer,col_indexer] = value instead\n",
      "\n",
      "See the caveats in the documentation: http://pandas.pydata.org/pandas-docs/stable/indexing.html#indexing-view-versus-copy\n",
      "C:\\Users\\Sreyan\\Anaconda3\\envs\\AI2\\lib\\site-packages\\ipykernel_launcher.py:39: SettingWithCopyWarning: \n",
      "A value is trying to be set on a copy of a slice from a DataFrame.\n",
      "Try using .loc[row_indexer,col_indexer] = value instead\n",
      "\n",
      "See the caveats in the documentation: http://pandas.pydata.org/pandas-docs/stable/indexing.html#indexing-view-versus-copy\n"
     ]
    }
   ],
   "source": [
    "#Mean and sum encoding different columns\n",
    "\n",
    "groupbyareashotmean=train.groupby(\"area_of_shot\")['is_goal'].mean()\n",
    "train['groupbyareashotmean']=train[\"area_of_shot\"].map(groupbyareashotmean)\n",
    "test['groupbyareashotmean']=test[\"area_of_shot\"].map(groupbyareashotmean)\n",
    "\n",
    "groupbyareashotcount=train.groupby(\"area_of_shot\")['is_goal'].sum()\n",
    "train['groupbyareashotcount']=train[\"area_of_shot\"].map(groupbyareashotcount)\n",
    "test['groupbyareashotcount']=test[\"area_of_shot\"].map(groupbyareashotcount)\n",
    "\n",
    "groupbytype_of_shotmean=train.groupby(\"type_of_shot\")['is_goal'].mean()\n",
    "train['groupbytype_of_shotmean']=train[\"type_of_shot\"].map(groupbytype_of_shotmean)\n",
    "test['groupbytype_of_shotmean']=test[\"type_of_shot\"].map(groupbytype_of_shotmean)\n",
    "\n",
    "groupbytype_of_shotsum=train.groupby(\"type_of_shot\")['is_goal'].sum()\n",
    "train['groupbytype_of_shotsum']=train[\"type_of_shot\"].map(groupbytype_of_shotsum)\n",
    "test['groupbytype_of_shotsum']=test[\"type_of_shot\"].map(groupbytype_of_shotsum)\n",
    "\n",
    "groupbytype_of_shotcmean=train.groupby(\"type_of_combined_shot\")['is_goal'].mean()\n",
    "train['groupbytype_of_shotcmean']=train[\"type_of_combined_shot\"].map(groupbytype_of_shotcmean)\n",
    "test['groupbytype_of_shotcmean']=test[\"type_of_combined_shot\"].map(groupbytype_of_shotcmean)\n",
    "\n",
    "groupbytype_of_shotcsum=train.groupby(\"type_of_combined_shot\")['is_goal'].sum()\n",
    "train['groupbytype_of_shotcsum']=train[\"type_of_combined_shot\"].map(groupbytype_of_shotcsum)\n",
    "test['groupbytype_of_shotcsum']=test[\"type_of_combined_shot\"].map(groupbytype_of_shotcsum)\n",
    "\n",
    "groupbyhomeawaymean=train.groupby(\"homeaway\")['is_goal'].mean()\n",
    "train['groupbyhomeawaymean']=train[\"homeaway\"].map(groupbyhomeawaymean)\n",
    "test['groupbyhomeawaymean']=test[\"homeaway\"].map(groupbyhomeawaymean)\n",
    "\n",
    "groupbyhomeawaysum=train.groupby(\"homeaway\")['is_goal'].sum()\n",
    "train['groupbyhomeawaysum']=train[\"homeaway\"].map(groupbyhomeawaysum)\n",
    "test['groupbyhomeawaysum']=test[\"homeaway\"].map(groupbyhomeawaysum)\n",
    "\n",
    "groupbyopponentteammean=train.groupby(\"opponentteam\")['is_goal'].mean()\n",
    "train['groupbyopponentteammean']=train[\"opponentteam\"].map(groupbyopponentteammean)\n",
    "test['groupbyopponentteammean']=test[\"opponentteam\"].map(groupbyopponentteammean)\n",
    "\n",
    "groupbyopponentteamsum=train.groupby(\"opponentteam\")['is_goal'].sum()\n",
    "train['groupbyopponentteamsum']=train[\"opponentteam\"].map(groupbyopponentteamsum)\n",
    "test['groupbyopponentteamsum']=test[\"opponentteam\"].map(groupbyopponentteamsum)"
   ]
  },
  {
   "cell_type": "code",
   "execution_count": 40,
   "metadata": {},
   "outputs": [
    {
     "name": "stderr",
     "output_type": "stream",
     "text": [
      "C:\\Users\\Sreyan\\Anaconda3\\envs\\AI2\\lib\\site-packages\\ipykernel_launcher.py:2: SettingWithCopyWarning: \n",
      "A value is trying to be set on a copy of a slice from a DataFrame.\n",
      "Try using .loc[row_indexer,col_indexer] = value instead\n",
      "\n",
      "See the caveats in the documentation: http://pandas.pydata.org/pandas-docs/stable/indexing.html#indexing-view-versus-copy\n",
      "  \n",
      "C:\\Users\\Sreyan\\Anaconda3\\envs\\AI2\\lib\\site-packages\\ipykernel_launcher.py:3: SettingWithCopyWarning: \n",
      "A value is trying to be set on a copy of a slice from a DataFrame.\n",
      "Try using .loc[row_indexer,col_indexer] = value instead\n",
      "\n",
      "See the caveats in the documentation: http://pandas.pydata.org/pandas-docs/stable/indexing.html#indexing-view-versus-copy\n",
      "  This is separate from the ipykernel package so we can avoid doing imports until\n",
      "C:\\Users\\Sreyan\\Anaconda3\\envs\\AI2\\lib\\site-packages\\ipykernel_launcher.py:5: SettingWithCopyWarning: \n",
      "A value is trying to be set on a copy of a slice from a DataFrame.\n",
      "Try using .loc[row_indexer,col_indexer] = value instead\n",
      "\n",
      "See the caveats in the documentation: http://pandas.pydata.org/pandas-docs/stable/indexing.html#indexing-view-versus-copy\n",
      "  \"\"\"\n",
      "C:\\Users\\Sreyan\\Anaconda3\\envs\\AI2\\lib\\site-packages\\ipykernel_launcher.py:6: SettingWithCopyWarning: \n",
      "A value is trying to be set on a copy of a slice from a DataFrame.\n",
      "Try using .loc[row_indexer,col_indexer] = value instead\n",
      "\n",
      "See the caveats in the documentation: http://pandas.pydata.org/pandas-docs/stable/indexing.html#indexing-view-versus-copy\n",
      "  \n",
      "C:\\Users\\Sreyan\\Anaconda3\\envs\\AI2\\lib\\site-packages\\ipykernel_launcher.py:8: SettingWithCopyWarning: \n",
      "A value is trying to be set on a copy of a slice from a DataFrame.\n",
      "Try using .loc[row_indexer,col_indexer] = value instead\n",
      "\n",
      "See the caveats in the documentation: http://pandas.pydata.org/pandas-docs/stable/indexing.html#indexing-view-versus-copy\n",
      "  \n",
      "C:\\Users\\Sreyan\\Anaconda3\\envs\\AI2\\lib\\site-packages\\ipykernel_launcher.py:9: SettingWithCopyWarning: \n",
      "A value is trying to be set on a copy of a slice from a DataFrame.\n",
      "Try using .loc[row_indexer,col_indexer] = value instead\n",
      "\n",
      "See the caveats in the documentation: http://pandas.pydata.org/pandas-docs/stable/indexing.html#indexing-view-versus-copy\n",
      "  if __name__ == '__main__':\n",
      "C:\\Users\\Sreyan\\Anaconda3\\envs\\AI2\\lib\\site-packages\\pandas\\core\\frame.py:3697: SettingWithCopyWarning: \n",
      "A value is trying to be set on a copy of a slice from a DataFrame\n",
      "\n",
      "See the caveats in the documentation: http://pandas.pydata.org/pandas-docs/stable/indexing.html#indexing-view-versus-copy\n",
      "  errors=errors)\n"
     ]
    }
   ],
   "source": [
    "# Making separate columns for day, month and year of the game\n",
    "\n",
    "import datetime\n",
    "train[\"date_of_game\"]=pd.to_datetime(train[\"date_of_game\"])\n",
    "test[\"date_of_game\"]=pd.to_datetime(test[\"date_of_game\"])\n",
    "\n",
    "train[\"year\"]=train[\"date_of_game\"].dt.year\n",
    "test[\"year\"]=test[\"date_of_game\"].dt.year\n",
    "\n",
    "train[\"month\"]=train[\"date_of_game\"].dt.month\n",
    "test[\"month\"]=test[\"date_of_game\"].dt.month\n",
    "\n",
    "train.drop(\"date_of_game\",axis=1,inplace=True)\n",
    "test.drop(\"date_of_game\",axis=1,inplace=True)"
   ]
  },
  {
   "cell_type": "code",
   "execution_count": 41,
   "metadata": {},
   "outputs": [
    {
     "name": "stderr",
     "output_type": "stream",
     "text": [
      "C:\\Users\\Sreyan\\Anaconda3\\envs\\AI2\\lib\\site-packages\\ipykernel_launcher.py:1: SettingWithCopyWarning: \n",
      "A value is trying to be set on a copy of a slice from a DataFrame.\n",
      "Try using .loc[row_indexer,col_indexer] = value instead\n",
      "\n",
      "See the caveats in the documentation: http://pandas.pydata.org/pandas-docs/stable/indexing.html#indexing-view-versus-copy\n",
      "  \"\"\"Entry point for launching an IPython kernel.\n",
      "C:\\Users\\Sreyan\\Anaconda3\\envs\\AI2\\lib\\site-packages\\ipykernel_launcher.py:2: SettingWithCopyWarning: \n",
      "A value is trying to be set on a copy of a slice from a DataFrame.\n",
      "Try using .loc[row_indexer,col_indexer] = value instead\n",
      "\n",
      "See the caveats in the documentation: http://pandas.pydata.org/pandas-docs/stable/indexing.html#indexing-view-versus-copy\n",
      "  \n",
      "C:\\Users\\Sreyan\\Anaconda3\\envs\\AI2\\lib\\site-packages\\ipykernel_launcher.py:6: SettingWithCopyWarning: \n",
      "A value is trying to be set on a copy of a slice from a DataFrame.\n",
      "Try using .loc[row_indexer,col_indexer] = value instead\n",
      "\n",
      "See the caveats in the documentation: http://pandas.pydata.org/pandas-docs/stable/indexing.html#indexing-view-versus-copy\n",
      "  \n",
      "C:\\Users\\Sreyan\\Anaconda3\\envs\\AI2\\lib\\site-packages\\ipykernel_launcher.py:7: SettingWithCopyWarning: \n",
      "A value is trying to be set on a copy of a slice from a DataFrame.\n",
      "Try using .loc[row_indexer,col_indexer] = value instead\n",
      "\n",
      "See the caveats in the documentation: http://pandas.pydata.org/pandas-docs/stable/indexing.html#indexing-view-versus-copy\n",
      "  import sys\n",
      "C:\\Users\\Sreyan\\Anaconda3\\envs\\AI2\\lib\\site-packages\\ipykernel_launcher.py:10: SettingWithCopyWarning: \n",
      "A value is trying to be set on a copy of a slice from a DataFrame.\n",
      "Try using .loc[row_indexer,col_indexer] = value instead\n",
      "\n",
      "See the caveats in the documentation: http://pandas.pydata.org/pandas-docs/stable/indexing.html#indexing-view-versus-copy\n",
      "  # Remove the CWD from sys.path while we load stuff.\n",
      "C:\\Users\\Sreyan\\Anaconda3\\envs\\AI2\\lib\\site-packages\\ipykernel_launcher.py:11: SettingWithCopyWarning: \n",
      "A value is trying to be set on a copy of a slice from a DataFrame.\n",
      "Try using .loc[row_indexer,col_indexer] = value instead\n",
      "\n",
      "See the caveats in the documentation: http://pandas.pydata.org/pandas-docs/stable/indexing.html#indexing-view-versus-copy\n",
      "  # This is added back by InteractiveShellApp.init_path()\n"
     ]
    }
   ],
   "source": [
    "# Calculating and mean encoding age\n",
    "\n",
    "train[\"Age\"]=train[\"year\"]-float(1985)\n",
    "test[\"Age\"]=test[\"year\"]-float(1985)\n",
    "\n",
    "\n",
    "groupbyagemean=train.groupby(\"Age\")['is_goal'].mean()\n",
    "train['groupbyagemean']=train[\"Age\"].map(groupbyagemean)\n",
    "test['groupbyagemean']=test[\"Age\"].map(groupbyagemean)\n",
    "\n",
    "groupbyagesum=train.groupby(\"Age\")['is_goal'].sum()\n",
    "train['groupbyagesum']=train[\"Age\"].map(groupbyagesum)\n",
    "test['groupbyagesum']=test[\"Age\"].map(groupbyagesum)"
   ]
  },
  {
   "cell_type": "code",
   "execution_count": 42,
   "metadata": {},
   "outputs": [
    {
     "name": "stderr",
     "output_type": "stream",
     "text": [
      "C:\\Users\\Sreyan\\Anaconda3\\envs\\AI2\\lib\\site-packages\\ipykernel_launcher.py:6: SettingWithCopyWarning: \n",
      "A value is trying to be set on a copy of a slice from a DataFrame.\n",
      "Try using .loc[row_indexer,col_indexer] = value instead\n",
      "\n",
      "See the caveats in the documentation: http://pandas.pydata.org/pandas-docs/stable/indexing.html#indexing-view-versus-copy\n",
      "  \n",
      "C:\\Users\\Sreyan\\Anaconda3\\envs\\AI2\\lib\\site-packages\\ipykernel_launcher.py:7: SettingWithCopyWarning: \n",
      "A value is trying to be set on a copy of a slice from a DataFrame.\n",
      "Try using .loc[row_indexer,col_indexer] = value instead\n",
      "\n",
      "See the caveats in the documentation: http://pandas.pydata.org/pandas-docs/stable/indexing.html#indexing-view-versus-copy\n",
      "  import sys\n"
     ]
    }
   ],
   "source": [
    "# Label Encoding categorical columns\n",
    "\n",
    "from sklearn.preprocessing import LabelEncoder\n",
    "columns=[cols for cols in train.select_dtypes(include=['O']).columns]\n",
    "for c in columns:\n",
    "    lbl=LabelEncoder()\n",
    "    lbl.fit(list(train[c].values))\n",
    "    train[c]=lbl.transform(list(train[c].values))\n",
    "    test[c]=lbl.transform(list(test[c].values))"
   ]
  },
  {
   "cell_type": "markdown",
   "metadata": {},
   "source": [
    "# Modelling"
   ]
  },
  {
   "cell_type": "code",
   "execution_count": 18,
   "metadata": {},
   "outputs": [],
   "source": [
    "# Splitting the dataset\n",
    "X=train.drop(\"is_goal\",axis=1)\n",
    "y=train[\"is_goal\"]"
   ]
  },
  {
   "cell_type": "markdown",
   "metadata": {},
   "source": [
    "# Using Hyperopt for hyperparameter tuning"
   ]
  },
  {
   "cell_type": "code",
   "execution_count": 25,
   "metadata": {},
   "outputs": [
    {
     "name": "stdout",
     "output_type": "stream",
     "text": [
      "ROC AUC CV-Score: 0.6145614056494433                                                                                   \n",
      "ROC AUC CV-Score: 0.6488254567092978                                                                                   \n",
      "ROC AUC CV-Score: 0.6117936382328661                                                                                   \n",
      "ROC AUC CV-Score: 0.6149604219314575                                                                                   \n",
      "ROC AUC CV-Score: 0.6242459741250703                                                                                   \n",
      "ROC AUC CV-Score: 0.6142814014104631                                                                                   \n",
      "ROC AUC CV-Score: 0.6259413293679639                                                                                   \n",
      "ROC AUC CV-Score: 0.6199019464383951                                                                                   \n",
      "ROC AUC CV-Score: 0.643775034718358                                                                                    \n",
      "ROC AUC CV-Score: 0.607143077524363                                                                                    \n",
      "ROC AUC CV-Score: 0.5672413319652236                                                                                   \n",
      "ROC AUC CV-Score: 0.6101186565029924                                                                                   \n",
      "ROC AUC CV-Score: 0.619561106498345                                                                                    \n",
      "ROC AUC CV-Score: 0.6128490866292995                                                                                   \n",
      "ROC AUC CV-Score: 0.6222304944460195                                                                                   \n",
      "100%|██████████████████████████████████████████████████| 15/15 [12:41<00:00, 69.02s/it, best loss: -0.6488254567092978]\n"
     ]
    }
   ],
   "source": [
    "from sklearn.model_selection import KFold, StratifiedKFold,cross_val_score\n",
    "import lightgbm\n",
    "skf = KFold(n_splits=5)\n",
    "\n",
    "def objective(params):\n",
    "    params = {\n",
    "        'max_depth': int(params['max_depth']),\n",
    "        'num_leaves': int(params['num_leaves']),\n",
    "        'bagging_fraction': \"{:.3f}\".format(params['bagging_fraction']),\n",
    "        'learning_rate': \"{:.3f}\".format(params['learning_rate']),\n",
    "        'bagging_freq': int(params['bagging_freq']),\n",
    "        'feature_fraction': '{:.3f}'.format(params['feature_fraction']),\n",
    "\n",
    "\n",
    "    }\n",
    "    \n",
    "    clf = lightgbm.LGBMClassifier(\n",
    "        n_estimators=2000, \n",
    "        objective=\"binary\", # Seting model to run on GPU\n",
    "        **params\n",
    "        )\n",
    "    \n",
    "    # clf.fit(X_train, y_train)\n",
    "    # y_pred_train = clf.predict_proba(X_val)[:,1]\n",
    "    # score = roc_auc_score(y_val, y_pred_train)\n",
    "    score = cross_val_score(clf, X, y, scoring='roc_auc', cv=skf).mean() #Using the TimeSeriesSplit\n",
    "    print(f'ROC AUC CV-Score: {score}')    \n",
    "    # print(\"Accuracy {:.8f} params {}\".format(-score, params))\n",
    "    \n",
    "    return -score\n",
    "\n",
    "space = {\n",
    "    'max_depth': hp.randint('max_depth',20),\n",
    "    'num_leaves':  hp.randint('num_leaves',300),\n",
    "    'bagging_fraction': hp.uniform('bagging_fraction', 0.2, 1.0),\n",
    "    'learning_rate': hp.uniform('learning_rate', 0.001, 0.2),\n",
    "    'bagging_freq': hp.randint('bagging_freq',40),\n",
    "    'feature_fraction': hp.uniform('feature_fraction', 0.3, 1.0),\n",
    "}\n",
    "\n",
    "best = fmin(fn=objective,\n",
    "            space=space,\n",
    "            algo=tpe.suggest,\n",
    "            max_evals=15)"
   ]
  },
  {
   "cell_type": "code",
   "execution_count": 26,
   "metadata": {},
   "outputs": [
    {
     "name": "stdout",
     "output_type": "stream",
     "text": [
      "BEST PARAMS:  {'bagging_fraction': 0.8488848775507463, 'bagging_freq': 10, 'feature_fraction': 0.36742832381321716, 'learning_rate': 0.0431385893384868, 'max_depth': 2, 'num_leaves': 297}\n"
     ]
    }
   ],
   "source": [
    "# Finding out best parameters\n",
    "print(\"BEST PARAMS: \", best)"
   ]
  },
  {
   "cell_type": "code",
   "execution_count": 63,
   "metadata": {},
   "outputs": [],
   "source": [
    "param1={'bagging_fraction': 0.8488848775507463, 'bagging_freq': 10, 'feature_fraction': 0.36742832381321716, 'learning_rate': 0.0431385893384868, 'max_depth': 2, 'num_leaves': 297,\"objective\" : 'binary','metric': 'auc'}"
   ]
  },
  {
   "cell_type": "code",
   "execution_count": 49,
   "metadata": {},
   "outputs": [
    {
     "name": "stderr",
     "output_type": "stream",
     "text": [
      "C:\\Users\\Sreyan\\Miniconda3\\envs\\AI\\lib\\site-packages\\pandas\\core\\frame.py:3697: SettingWithCopyWarning: \n",
      "A value is trying to be set on a copy of a slice from a DataFrame\n",
      "\n",
      "See the caveats in the documentation: http://pandas.pydata.org/pandas-docs/stable/indexing.html#indexing-view-versus-copy\n",
      "  errors=errors)\n"
     ]
    }
   ],
   "source": [
    "test.drop(\"is_goal\",axis=1,inplace=True)"
   ]
  },
  {
   "cell_type": "code",
   "execution_count": 64,
   "metadata": {},
   "outputs": [
    {
     "name": "stdout",
     "output_type": "stream",
     "text": [
      "[    0     2     3 ... 24425 24426 24428]\n",
      "LGB 0--------------------------------------------------\n",
      "Training until validation scores don't improve for 400 rounds.\n",
      "Early stopping, best iteration is:\n",
      "[254]\ttraining's auc: 0.669815\tvalid_1's auc: 0.656064\n",
      "[    1     2     3 ... 24426 24427 24428]\n",
      "LGB 1--------------------------------------------------\n",
      "Training until validation scores don't improve for 400 rounds.\n",
      "Early stopping, best iteration is:\n",
      "[370]\ttraining's auc: 0.675637\tvalid_1's auc: 0.66201\n",
      "[    0     1     2 ... 24426 24427 24428]\n",
      "LGB 2--------------------------------------------------\n",
      "Training until validation scores don't improve for 400 rounds.\n",
      "[1000]\ttraining's auc: 0.703945\tvalid_1's auc: 0.652991\n",
      "Early stopping, best iteration is:\n",
      "[1014]\ttraining's auc: 0.704503\tvalid_1's auc: 0.653064\n",
      "[    0     1     4 ... 24426 24427 24428]\n",
      "LGB 3--------------------------------------------------\n",
      "Training until validation scores don't improve for 400 rounds.\n",
      "[1000]\ttraining's auc: 0.704225\tvalid_1's auc: 0.654576\n",
      "Early stopping, best iteration is:\n",
      "[1008]\ttraining's auc: 0.70435\tvalid_1's auc: 0.654864\n",
      "[    0     1     2 ... 24424 24425 24427]\n",
      "LGB 4--------------------------------------------------\n",
      "Training until validation scores don't improve for 400 rounds.\n",
      "Early stopping, best iteration is:\n",
      "[259]\ttraining's auc: 0.670785\tvalid_1's auc: 0.651404\n"
     ]
    },
    {
     "name": "stderr",
     "output_type": "stream",
     "text": [
      "C:\\Users\\Sreyan\\Miniconda3\\envs\\AI\\lib\\site-packages\\scipy\\stats\\stats.py:1713: FutureWarning: Using a non-tuple sequence for multidimensional indexing is deprecated; use `arr[tuple(seq)]` instead of `arr[seq]`. In the future this will be interpreted as an array index, `arr[np.array(seq)]`, which will result either in an error or a different result.\n",
      "  return np.add.reduce(sorted[indexer] * weights, axis=axis) / sumval\n"
     ]
    },
    {
     "data": {
      "image/png": "[encoded data removed]",
      "text/plain": [
       "<Figure size 432x288 with 1 Axes>"
      ]
     },
     "metadata": {
      "needs_background": "light"
     },
     "output_type": "display_data"
    },
    {
     "data": {
      "image/png": "[encoded data removed]",
      "text/plain": [
       "<Figure size 1008x720 with 1 Axes>"
      ]
     },
     "metadata": {
      "needs_background": "light"
     },
     "output_type": "display_data"
    }
   ],
   "source": [
    "# Modelling with LightGBM and getting feature importance\n",
    "from sklearn.model_selection import KFold, StratifiedKFold\n",
    "import lightgbm as lgb\n",
    "FOLDs = StratifiedKFold(n_splits=5, shuffle=True, random_state=7)\n",
    "\n",
    "oof_lgb = np.zeros(len(X))\n",
    "predictions_lgb = np.zeros(len(test))\n",
    "\n",
    "features_lgb = list(X.columns)\n",
    "feature_importance_df_lgb = pd.DataFrame()\n",
    "\n",
    "for fold_, (trn_idx, val_idx) in enumerate(FOLDs.split(X, y)):\n",
    "    trn_data = lgb.Dataset(X.iloc[trn_idx], label=y.iloc[trn_idx])\n",
    "    val_data = lgb.Dataset(X.iloc[val_idx], label=y.iloc[val_idx])\n",
    "    print(trn_idx)\n",
    "\n",
    "    print(\"LGB \" + str(fold_) + \"-\" * 50)\n",
    "    num_round = 20000\n",
    "    clf = lgb.train(param1,trn_data, num_round, valid_sets = [trn_data, val_data], verbose_eval=1000, early_stopping_rounds = 400)\n",
    "    oof_lgb[val_idx] = clf.predict(X.iloc[val_idx], num_iteration=clf.best_iteration)\n",
    "    predictions_lgb += clf.predict(test, num_iteration=clf.best_iteration) / FOLDs.n_splits\n",
    "    fold_importance_df_lgb = pd.DataFrame()\n",
    "    fold_importance_df_lgb[\"feature\"] = features_lgb\n",
    "    fold_importance_df_lgb[\"importance\"] = clf.feature_importance()\n",
    "    fold_importance_df_lgb[\"fold\"] = fold_ + 1\n",
    "    feature_importance_df_lgb = pd.concat([feature_importance_df_lgb, fold_importance_df_lgb], axis=0)\n",
    "    \n",
    "lgb.plot_importance(clf, max_num_features=30)    \n",
    "cols = feature_importance_df_lgb[[\"feature\", \"importance\"]].groupby(\"feature\").mean().sort_values(by=\"importance\", ascending=False)[:50].index\n",
    "best_features_lgb = feature_importance_df_lgb.loc[feature_importance_df_lgb.feature.isin(cols)]\n",
    "plt.figure(figsize=(14,10))\n",
    "sns.barplot(x=\"importance\", y=\"feature\", data=best_features_lgb.sort_values(by=\"importance\", ascending=False))\n",
    "plt.title('LightGBM Features (avg over folds)')\n",
    "plt.tight_layout()\n",
    "plt.savefig('lgbm_importances.png')\n"
   ]
  },
  {
   "cell_type": "markdown",
   "metadata": {},
   "source": [
    "# Using H2O AutoML"
   ]
  },
  {
   "cell_type": "code",
   "execution_count": 19,
   "metadata": {},
   "outputs": [],
   "source": [
    "import h2o\n",
    "from h2o.automl import H2OAutoML"
   ]
  },
  {
   "cell_type": "code",
   "execution_count": 20,
   "metadata": {},
   "outputs": [
    {
     "ename": "AttributeError",
     "evalue": "'NoneType' object has no attribute 'shutdown'",
     "output_type": "error",
     "traceback": [
      "\u001b[1;31m---------------------------------------------------------------------------\u001b[0m",
      "\u001b[1;31mAttributeError\u001b[0m                            Traceback (most recent call last)",
      "\u001b[1;32m<ipython-input-20-8ae2ce013486>\u001b[0m in \u001b[0;36m<module>\u001b[1;34m()\u001b[0m\n\u001b[1;32m----> 1\u001b[1;33m \u001b[0mh2o\u001b[0m\u001b[1;33m.\u001b[0m\u001b[0mcluster\u001b[0m\u001b[1;33m(\u001b[0m\u001b[1;33m)\u001b[0m\u001b[1;33m.\u001b[0m\u001b[0mshutdown\u001b[0m\u001b[1;33m(\u001b[0m\u001b[1;33m)\u001b[0m\u001b[1;33m\u001b[0m\u001b[0m\n\u001b[0m",
      "\u001b[1;31mAttributeError\u001b[0m: 'NoneType' object has no attribute 'shutdown'"
     ]
    }
   ],
   "source": [
    "h2o.cluster().shutdown()"
   ]
  },
  {
   "cell_type": "code",
   "execution_count": 22,
   "metadata": {},
   "outputs": [
    {
     "name": "stdout",
     "output_type": "stream",
     "text": [
      "Checking whether there is an H2O instance running at http://localhost:54321 ..... not found.\n",
      "Attempting to start a local H2O server...\n",
      "; Java HotSpot(TM) 64-Bit Server VM (build 12.0.2+10, mixed mode, sharing)\n",
      "  Starting server from C:\\Users\\Sreyan\\Anaconda3\\envs\\AI2\\lib\\site-packages\\h2o\\backend\\bin\\h2o.jar\n",
      "  Ice root: C:\\Users\\Sreyan\\AppData\\Local\\Temp\\tmpv1rvry6s\n",
      "  JVM stdout: C:\\Users\\Sreyan\\AppData\\Local\\Temp\\tmpv1rvry6s\\h2o_Sreyan_started_from_python.out\n",
      "  JVM stderr: C:\\Users\\Sreyan\\AppData\\Local\\Temp\\tmpv1rvry6s\\h2o_Sreyan_started_from_python.err\n",
      "  Server is running at http://127.0.0.1:54321\n",
      "Connecting to H2O server at http://127.0.0.1:54321 ... successful.\n"
     ]
    },
    {
     "data": {
      "text/html": [
       "<div style=\"overflow:auto\"><table style=\"width:50%\"><tr><td>H2O cluster uptime:</td>\n",
       "<td>02 secs</td></tr>\n",
       "<tr><td>H2O cluster timezone:</td>\n",
       "<td>Asia/Kolkata</td></tr>\n",
       "<tr><td>H2O data parsing timezone:</td>\n",
       "<td>UTC</td></tr>\n",
       "<tr><td>H2O cluster version:</td>\n",
       "<td>3.26.0.1</td></tr>\n",
       "<tr><td>H2O cluster version age:</td>\n",
       "<td>5 days </td></tr>\n",
       "<tr><td>H2O cluster name:</td>\n",
       "<td>H2O_from_python_Sreyan_t96nzk</td></tr>\n",
       "<tr><td>H2O cluster total nodes:</td>\n",
       "<td>1</td></tr>\n",
       "<tr><td>H2O cluster free memory:</td>\n",
       "<td>3.963 Gb</td></tr>\n",
       "<tr><td>H2O cluster total cores:</td>\n",
       "<td>8</td></tr>\n",
       "<tr><td>H2O cluster allowed cores:</td>\n",
       "<td>8</td></tr>\n",
       "<tr><td>H2O cluster status:</td>\n",
       "<td>accepting new members, healthy</td></tr>\n",
       "<tr><td>H2O connection url:</td>\n",
       "<td>http://127.0.0.1:54321</td></tr>\n",
       "<tr><td>H2O connection proxy:</td>\n",
       "<td>None</td></tr>\n",
       "<tr><td>H2O internal security:</td>\n",
       "<td>False</td></tr>\n",
       "<tr><td>H2O API Extensions:</td>\n",
       "<td>Amazon S3, Algos, AutoML, Core V3, Core V4</td></tr>\n",
       "<tr><td>Python version:</td>\n",
       "<td>3.5.6 final</td></tr></table></div>"
      ],
      "text/plain": [
       "--------------------------  ------------------------------------------\n",
       "H2O cluster uptime:         02 secs\n",
       "H2O cluster timezone:       Asia/Kolkata\n",
       "H2O data parsing timezone:  UTC\n",
       "H2O cluster version:        3.26.0.1\n",
       "H2O cluster version age:    5 days\n",
       "H2O cluster name:           H2O_from_python_Sreyan_t96nzk\n",
       "H2O cluster total nodes:    1\n",
       "H2O cluster free memory:    3.963 Gb\n",
       "H2O cluster total cores:    8\n",
       "H2O cluster allowed cores:  8\n",
       "H2O cluster status:         accepting new members, healthy\n",
       "H2O connection url:         http://127.0.0.1:54321\n",
       "H2O connection proxy:\n",
       "H2O internal security:      False\n",
       "H2O API Extensions:         Amazon S3, Algos, AutoML, Core V3, Core V4\n",
       "Python version:             3.5.6 final\n",
       "--------------------------  ------------------------------------------"
      ]
     },
     "metadata": {},
     "output_type": "display_data"
    }
   ],
   "source": [
    "h2o.init()"
   ]
  },
  {
   "cell_type": "code",
   "execution_count": 43,
   "metadata": {},
   "outputs": [],
   "source": [
    "train.to_csv(\"train1.csv\",index=False)\n",
    "test.to_csv(\"test1.csv\",index=False)"
   ]
  },
  {
   "cell_type": "code",
   "execution_count": 44,
   "metadata": {},
   "outputs": [
    {
     "name": "stdout",
     "output_type": "stream",
     "text": [
      "Parse progress: |█████████████████████████████████████████████████████████| 100%\n",
      "Parse progress: |█████████████████████████████████████████████████████████| 100%\n"
     ]
    }
   ],
   "source": [
    "train=h2o.import_file(\"train1.csv\")\n",
    "test=h2o.import_file(\"test1.csv\")"
   ]
  },
  {
   "cell_type": "code",
   "execution_count": 45,
   "metadata": {},
   "outputs": [],
   "source": [
    "x = train.columns\n",
    "y = \"is_goal\"\n",
    "x.remove(y)"
   ]
  },
  {
   "cell_type": "code",
   "execution_count": null,
   "metadata": {},
   "outputs": [
    {
     "name": "stdout",
     "output_type": "stream",
     "text": [
      "AutoML progress: |███████████████████████████████████████████████████████"
     ]
    }
   ],
   "source": [
    "aml = H2OAutoML(max_models=30, seed=42,max_runtime_secs=7200,project_name=\"ZS_Challenge\",max_runtime_secs_per_model=400)\n",
    "aml.train(x=x, y=y, training_frame=train)"
   ]
  },
  {
   "cell_type": "markdown",
   "metadata": {},
   "source": [
    "# Creating submission file"
   ]
  },
  {
   "cell_type": "code",
   "execution_count": 93,
   "metadata": {},
   "outputs": [],
   "source": [
    "lol=pd.DataFrame(predictions_lgb)\n",
    "lol.to_csv(\"sub1.csv\")"
   ]
  },
  {
   "cell_type": "code",
   "execution_count": 94,
   "metadata": {},
   "outputs": [],
   "source": [
    "haha=pd.read_csv(\"sample_submission.csv\")\n",
    "df=pd.read_csv(\"data.csv\")\n",
    "number=[i for i in range(1,len(df)+1)]\n",
    "df[\"shot_id_number\"]=number\n",
    "test=df[df[\"is_goal\"].isna()==True]"
   ]
  },
  {
   "cell_type": "code",
   "execution_count": 95,
   "metadata": {},
   "outputs": [
    {
     "name": "stderr",
     "output_type": "stream",
     "text": [
      "C:\\Users\\Sreyan\\Miniconda3\\envs\\AI\\lib\\site-packages\\ipykernel_launcher.py:1: SettingWithCopyWarning: \n",
      "A value is trying to be set on a copy of a slice from a DataFrame.\n",
      "Try using .loc[row_indexer,col_indexer] = value instead\n",
      "\n",
      "See the caveats in the documentation: http://pandas.pydata.org/pandas-docs/stable/indexing.html#indexing-view-versus-copy\n",
      "  \"\"\"Entry point for launching an IPython kernel.\n"
     ]
    }
   ],
   "source": [
    "test[\"is_goal\"]=(predictions_lgb>0.5).astype(np.int)"
   ]
  },
  {
   "cell_type": "code",
   "execution_count": 96,
   "metadata": {},
   "outputs": [],
   "source": [
    "submit=test[[\"shot_id_number\",\"is_goal\"]]"
   ]
  },
  {
   "cell_type": "code",
   "execution_count": 97,
   "metadata": {},
   "outputs": [],
   "source": [
    "haha.drop(\"is_goal\",axis=1,inplace=True)"
   ]
  },
  {
   "cell_type": "code",
   "execution_count": 98,
   "metadata": {},
   "outputs": [],
   "source": [
    "lolwa=pd.merge(haha,submit,how=\"inner\",on=[\"shot_id_number\"])"
   ]
  },
  {
   "cell_type": "code",
   "execution_count": 100,
   "metadata": {},
   "outputs": [],
   "source": [
    "lolwa.to_csv(\"submission2.csv\")"
   ]
  }
 ],
 "metadata": {
  "kernelspec": {
   "display_name": "Python 3",
   "language": "python",
   "name": "python3"
  },
  "language_info": {
   "codemirror_mode": {
    "name": "ipython",
    "version": 3
   },
   "file_extension": ".py",
   "mimetype": "text/x-python",
   "name": "python",
   "nbconvert_exporter": "python",
   "pygments_lexer": "ipython3",
   "version": "3.5.6"
  },
  "varInspector": {
   "cols": {
    "lenName": 16,
    "lenType": 16,
    "lenVar": 40
   },
   "kernels_config": {
    "python": {
     "delete_cmd_postfix": "",
     "delete_cmd_prefix": "del ",
     "library": "var_list.py",
     "varRefreshCmd": "print(var_dic_list())"
    },
    "r": {
     "delete_cmd_postfix": ") ",
     "delete_cmd_prefix": "rm(",
     "library": "var_list.r",
     "varRefreshCmd": "cat(var_dic_list()) "
    }
   },
   "types_to_exclude": [
    "module",
    "function",
    "builtin_function_or_method",
    "instance",
    "_Feature"
   ],
   "window_display": false
  }
 },
 "nbformat": 4,
 "nbformat_minor": 2
}
